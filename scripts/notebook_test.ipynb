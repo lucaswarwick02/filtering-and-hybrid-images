{
 "cells": [
  {
   "cell_type": "markdown",
   "metadata": {},
   "source": [
    "# Setup"
   ]
  },
  {
   "cell_type": "code",
   "execution_count": 4,
   "metadata": {},
   "outputs": [],
   "source": [
    "import numpy as np\n",
    "from PIL import Image\n",
    "\n",
    "from MyHybridImages import myHybridImages\n",
    "\n",
    "%matplotlib inline\n",
    "from matplotlib import pyplot as plt"
   ]
  },
  {
   "cell_type": "markdown",
   "metadata": {},
   "source": [
    "# Get Image Paths"
   ]
  },
  {
   "cell_type": "code",
   "execution_count": 5,
   "metadata": {},
   "outputs": [
    {
     "name": "stdout",
     "output_type": "stream",
     "text": [
      "<class 'numpy.ndarray'>\n",
      "<class 'numpy.ndarray'>\n"
     ]
    }
   ],
   "source": [
    "lowImage = np.asarray(Image.open('../data/dog.bmp'))\n",
    "highImage = np.asarray(Image.open('../data/cat.bmp'))\n",
    "\n",
    "print(type(lowImage))\n",
    "print(type(highImage))"
   ]
  },
  {
   "cell_type": "code",
   "execution_count": null,
   "metadata": {},
   "outputs": [],
   "source": [
    "hybridImage = myHybridImages(lowImage=lowImage, lowSigma=5, highImage=highImage, highSigma=5)"
   ]
  },
  {
   "cell_type": "code",
   "execution_count": null,
   "metadata": {},
   "outputs": [],
   "source": [
    "plt.subplot(1, 3, 1)\n",
    "plt.imshow(lowImage)\n",
    "plt.title('lowImage')\n",
    "plt.yticks([])\n",
    "\n",
    "plt.subplot(1, 3, 2)\n",
    "plt.imshow(highImage)\n",
    "plt.title('highImage')\n",
    "plt.yticks([])\n",
    "\n",
    "plt.subplot(1, 3, 3)\n",
    "plt.imshow(hybridImage)\n",
    "plt.title('hybridImage')\n",
    "plt.yticks([])"
   ]
  }
 ],
 "metadata": {
  "kernelspec": {
   "display_name": "Python 3.10.6 ('comp3204-filtering-and-hybrid-images')",
   "language": "python",
   "name": "python3"
  },
  "language_info": {
   "codemirror_mode": {
    "name": "ipython",
    "version": 3
   },
   "file_extension": ".py",
   "mimetype": "text/x-python",
   "name": "python",
   "nbconvert_exporter": "python",
   "pygments_lexer": "ipython3",
   "version": "3.10.6"
  },
  "orig_nbformat": 4,
  "vscode": {
   "interpreter": {
    "hash": "d2950774b805109461072a4c13a47c097f4fa11085b95975617e8436f1a258ef"
   }
  }
 },
 "nbformat": 4,
 "nbformat_minor": 2
}
