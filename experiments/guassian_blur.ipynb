{
 "cells": [
  {
   "cell_type": "code",
   "execution_count": 1,
   "metadata": {
    "collapsed": true,
    "pycharm": {
     "name": "#%%\n"
    }
   },
   "outputs": [],
   "source": [
    "import math"
   ]
  },
  {
   "cell_type": "code",
   "execution_count": 43,
   "outputs": [],
   "source": [
    "def create_guassian_filter(n: int, m: int, sigma=1.0):\n",
    "    s = 2.0 * sigma * sigma\n",
    "\n",
    "    guassian_filter = [ [0]*n for i in range(m) ]\n",
    "\n",
    "    sum = 0\n",
    "    x_range = int((n - 1) / 2)\n",
    "    y_range = int((m - 1) / 2)\n",
    "\n",
    "    for x in range(-x_range, x_range + 1):\n",
    "        for y in range(-y_range, y_range + 1):\n",
    "            r = math.sqrt((x * x) + (y * y))\n",
    "            guassian_filter[y + y_range][x + x_range] = (math.exp(-(r *r) / 2)) / (math.pi * s)\n",
    "            sum += guassian_filter[y + y_range][x + x_range]\n",
    "\n",
    "    for x in range(-x_range, x_range + 1):\n",
    "        for y in range(-y_range, y_range + 1):\n",
    "            guassian_filter[y + y_range][x + x_range] /= sum\n",
    "\n",
    "    return guassian_filter"
   ],
   "metadata": {
    "collapsed": false,
    "pycharm": {
     "name": "#%%\n"
    }
   }
  },
  {
   "cell_type": "code",
   "execution_count": 44,
   "outputs": [
    {
     "name": "stdout",
     "output_type": "stream",
     "text": [
      "0.0030 0.0133 0.0219 0.0133 0.0030 \n",
      "0.0133 0.0596 0.0983 0.0596 0.0133 \n",
      "0.0219 0.0983 0.1621 0.0983 0.0219 \n",
      "0.0133 0.0596 0.0983 0.0596 0.0133 \n",
      "0.0030 0.0133 0.0219 0.0133 0.0030 \n"
     ]
    }
   ],
   "source": [
    "guassian_filter = create_guassian_filter(n=5, m=5)\n",
    "print_guassian_filter(guassian_filter)"
   ],
   "metadata": {
    "collapsed": false,
    "pycharm": {
     "name": "#%%\n"
    }
   }
  },
  {
   "cell_type": "code",
   "execution_count": 44,
   "outputs": [],
   "source": [],
   "metadata": {
    "collapsed": false,
    "pycharm": {
     "name": "#%%\n"
    }
   }
  }
 ],
 "metadata": {
  "kernelspec": {
   "display_name": "Python 3",
   "language": "python",
   "name": "python3"
  },
  "language_info": {
   "codemirror_mode": {
    "name": "ipython",
    "version": 2
   },
   "file_extension": ".py",
   "mimetype": "text/x-python",
   "name": "python",
   "nbconvert_exporter": "python",
   "pygments_lexer": "ipython2",
   "version": "2.7.6"
  }
 },
 "nbformat": 4,
 "nbformat_minor": 0
}