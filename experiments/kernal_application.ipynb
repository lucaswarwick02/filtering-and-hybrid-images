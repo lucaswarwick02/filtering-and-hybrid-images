{
 "cells": [
  {
   "cell_type": "code",
   "execution_count": 19,
   "metadata": {
    "collapsed": true,
    "pycharm": {
     "name": "#%%\n"
    }
   },
   "outputs": [],
   "source": [
    "import numpy as np\n",
    "from coursework_functions import print_2d_array\n",
    "from tqdm.notebook import tqdm"
   ]
  },
  {
   "cell_type": "code",
   "execution_count": 20,
   "metadata": {
    "collapsed": false,
    "pycharm": {
     "name": "#%%\n"
    }
   },
   "outputs": [],
   "source": [
    "input_image = [\n",
    "    [1, 1, 1, 0, 0],\n",
    "    [0, 1, 1, 1, 0],\n",
    "    [0, 0, 1, 1, 1],\n",
    "    [0, 0, 1, 1, 0],\n",
    "    [0, 1, 1, 0, 0]\n",
    "]"
   ]
  },
  {
   "cell_type": "code",
   "execution_count": 21,
   "metadata": {
    "collapsed": false,
    "pycharm": {
     "name": "#%%\n"
    }
   },
   "outputs": [],
   "source": [
    "example_kernel = [\n",
    "    [1, 0, 1],\n",
    "    [0, 1, 0],\n",
    "    [1, 0, 1]\n",
    "]"
   ]
  },
  {
   "cell_type": "code",
   "execution_count": 22,
   "metadata": {},
   "outputs": [],
   "source": [
    "def point_multiply(image, template):\n",
    "    sum = 0\n",
    "    for row in range(len(image)):\n",
    "        for column in range(len(image[0])):\n",
    "            sum += image[row][column] * template[row][column]\n",
    "    return sum"
   ]
  },
  {
   "cell_type": "code",
   "execution_count": 23,
   "metadata": {
    "collapsed": false,
    "pycharm": {
     "name": "#%%\n"
    }
   },
   "outputs": [],
   "source": [
    "def perform_numpy_convolution(image: np.ndarray, template: np.ndarray):\n",
    "    # Flip the template around both axes\n",
    "    inverted_template = np.flip(template)\n",
    "\n",
    "    x, y = len(image), len(image[0])\n",
    "    n, m = len(inverted_template), len(inverted_template[0])\n",
    "    new_x, new_y = x - n + 1, y - m + 1\n",
    "\n",
    "    sections = []\n",
    "    for row_offset in tqdm(range(0, new_x)):\n",
    "        for column_offset in range(0, new_y):\n",
    "            section = np.zeros(shape=(n, m))\n",
    "            for row in range(0, n):\n",
    "                for column in range(0, m):\n",
    "                    section[row][column] = image[row + row_offset][column + column_offset]\n",
    "            sections.append(section)\n",
    "\n",
    "    vfunc = np.vectorize(point_multiply, signature='(x,y),(x,y)->()')\n",
    "    out = vfunc(sections, inverted_template.tolist())\n",
    "\n",
    "    return [out[i:i+m] for i in range(0, len(out), m)]"
   ]
  },
  {
   "cell_type": "code",
   "execution_count": 24,
   "metadata": {},
   "outputs": [],
   "source": [
    "numpy_image = np.array(input_image)\n",
    "numpy_template = np.array(example_kernel)"
   ]
  },
  {
   "cell_type": "code",
   "execution_count": 25,
   "metadata": {},
   "outputs": [
    {
     "data": {
      "application/vnd.jupyter.widget-view+json": {
       "model_id": "37fba0f99442455f8ee8ea4f37a91d16",
       "version_major": 2,
       "version_minor": 0
      },
      "text/plain": [
       "  0%|          | 0/3 [00:00<?, ?it/s]"
      ]
     },
     "metadata": {},
     "output_type": "display_data"
    },
    {
     "name": "stdout",
     "output_type": "stream",
     "text": [
      "[array([4., 3., 4.]), array([2., 4., 3.]), array([2., 3., 4.])]\n"
     ]
    }
   ],
   "source": [
    "output_image = perform_numpy_convolution(numpy_image, numpy_template)\n",
    "print(output_image)"
   ]
  },
  {
   "cell_type": "code",
   "execution_count": 26,
   "metadata": {},
   "outputs": [
    {
     "name": "stdout",
     "output_type": "stream",
     "text": [
      "4 3 4 \n",
      "2 4 3 \n",
      "2 3 4 \n"
     ]
    }
   ],
   "source": [
    "print_2d_array(output_image, decimal_places=0)"
   ]
  },
  {
   "cell_type": "code",
   "execution_count": null,
   "metadata": {},
   "outputs": [],
   "source": []
  }
 ],
 "metadata": {
  "kernelspec": {
   "display_name": "Python 3.10.6 ('comp3204-filtering-and-hybrid-images')",
   "language": "python",
   "name": "python3"
  },
  "language_info": {
   "codemirror_mode": {
    "name": "ipython",
    "version": 3
   },
   "file_extension": ".py",
   "mimetype": "text/x-python",
   "name": "python",
   "nbconvert_exporter": "python",
   "pygments_lexer": "ipython3",
   "version": "3.10.6"
  },
  "vscode": {
   "interpreter": {
    "hash": "0e4442c0e0950f8e3ce90e0644bd17cd3cce8d17f4a1aa6168e1b40fb912637a"
   }
  }
 },
 "nbformat": 4,
 "nbformat_minor": 0
}
