{
 "cells": [
  {
   "cell_type": "code",
   "execution_count": 162,
   "metadata": {
    "collapsed": true,
    "pycharm": {
     "name": "#%%\n"
    }
   },
   "outputs": [],
   "source": [
    "import numpy as np\n",
    "from coursework_functions import print_2d_array"
   ]
  },
  {
   "cell_type": "code",
   "execution_count": 156,
   "metadata": {
    "collapsed": false,
    "pycharm": {
     "name": "#%%\n"
    }
   },
   "outputs": [],
   "source": [
    "input_image = [\n",
    "    [1, 1, 1, 0, 0],\n",
    "    [0, 1, 1, 1, 0],\n",
    "    [0, 0, 1, 1, 1],\n",
    "    [0, 0, 1, 1, 0],\n",
    "    [0, 1, 1, 0, 0]\n",
    "]"
   ]
  },
  {
   "cell_type": "code",
   "execution_count": 157,
   "metadata": {
    "collapsed": false,
    "pycharm": {
     "name": "#%%\n"
    }
   },
   "outputs": [],
   "source": [
    "example_kernel = [\n",
    "    [1, 0, 1],\n",
    "    [0, 1, 0],\n",
    "    [1, 0, 1]\n",
    "]"
   ]
  },
  {
   "cell_type": "code",
   "execution_count": 158,
   "metadata": {},
   "outputs": [],
   "source": [
    "def point_multiply(image, template):\n",
    "    sum = 0\n",
    "    for row in range(len(image)):\n",
    "        for column in range(len(image[0])):\n",
    "            sum += image[row][column] * template[row][column]\n",
    "    return sum"
   ]
  },
  {
   "cell_type": "code",
   "execution_count": 159,
   "metadata": {
    "collapsed": false,
    "pycharm": {
     "name": "#%%\n"
    }
   },
   "outputs": [],
   "source": [
    "def perform_numpy_convolution(image: np.ndarray, template: np.ndarray):\n",
    "    # Flip the template around both axes\n",
    "    inverted_template = np.flip(template)\n",
    "\n",
    "    x, y = len(image), len(image[0])\n",
    "    n, m = len(inverted_template), len(inverted_template[0])\n",
    "    new_x, new_y = x - n + 1, y - m + 1\n",
    "\n",
    "    sections = []\n",
    "    for row_offset in range(0, new_x):\n",
    "        for column_offset in range(0, new_y):\n",
    "            section = np.zeros(shape=(n, m))\n",
    "            for row in range(0, n):\n",
    "                for column in range(0, m):\n",
    "                    section[row][column] = image[row + row_offset][column + column_offset]\n",
    "            sections.append(section)\n",
    "\n",
    "    vfunc = np.vectorize(point_multiply, signature='(x,y),(x,y)->()')\n",
    "    out = vfunc(sections, inverted_template.tolist())\n",
    "\n",
    "    return [out[i:i+m] for i in range(0, len(out), m)]"
   ]
  },
  {
   "cell_type": "code",
   "execution_count": 160,
   "metadata": {},
   "outputs": [],
   "source": [
    "numpy_image = np.array(input_image)\n",
    "numpy_template = np.array(example_kernel)"
   ]
  },
  {
   "cell_type": "code",
   "execution_count": 161,
   "metadata": {},
   "outputs": [
    {
     "name": "stdout",
     "output_type": "stream",
     "text": [
      "[array([4., 3., 4.]), array([2., 4., 3.]), array([2., 3., 4.])]\n"
     ]
    }
   ],
   "source": [
    "output_image = perform_numpy_convolution(numpy_image, numpy_template)\n",
    "print(output_image)"
   ]
  },
  {
   "cell_type": "code",
   "execution_count": 163,
   "metadata": {},
   "outputs": [
    {
     "name": "stdout",
     "output_type": "stream",
     "text": [
      "4.0000 3.0000 4.0000 \n",
      "2.0000 4.0000 3.0000 \n",
      "2.0000 3.0000 4.0000 \n"
     ]
    }
   ],
   "source": [
    "print_2d_array(output_image)"
   ]
  },
  {
   "cell_type": "code",
   "execution_count": null,
   "metadata": {},
   "outputs": [],
   "source": []
  }
 ],
 "metadata": {
  "kernelspec": {
   "display_name": "Python 3.10.6 ('comp3204-filtering-and-hybrid-images')",
   "language": "python",
   "name": "python3"
  },
  "language_info": {
   "codemirror_mode": {
    "name": "ipython",
    "version": 3
   },
   "file_extension": ".py",
   "mimetype": "text/x-python",
   "name": "python",
   "nbconvert_exporter": "python",
   "pygments_lexer": "ipython3",
   "version": "3.10.6"
  },
  "vscode": {
   "interpreter": {
    "hash": "d2950774b805109461072a4c13a47c097f4fa11085b95975617e8436f1a258ef"
   }
  }
 },
 "nbformat": 4,
 "nbformat_minor": 0
}
