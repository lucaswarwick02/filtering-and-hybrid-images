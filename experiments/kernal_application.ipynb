{
 "cells": [
  {
   "cell_type": "code",
   "execution_count": 169,
   "metadata": {
    "collapsed": true,
    "pycharm": {
     "name": "#%%\n"
    }
   },
   "outputs": [],
   "source": [
    "from coursework_functions import (print_2d_array)"
   ]
  },
  {
   "cell_type": "code",
   "execution_count": 170,
   "outputs": [],
   "source": [
    "# input_image = [\n",
    "#     [1, 1, 1, 0, 0],\n",
    "#     [0, 1, 1, 1, 0],\n",
    "#     [0, 0, 1, 1, 1],\n",
    "#     [0, 0, 1, 1, 0]\n",
    "# ]\n",
    "input_image = [\n",
    "    [0, 1, 2],\n",
    "    [3, 4, 5],\n",
    "    [6, 7, 8]\n",
    "]"
   ],
   "metadata": {
    "collapsed": false,
    "pycharm": {
     "name": "#%%\n"
    }
   }
  },
  {
   "cell_type": "code",
   "execution_count": 171,
   "outputs": [],
   "source": [
    "identity_kernel = [\n",
    "    [0, 0, 0],\n",
    "    [0, 1, 0],\n",
    "    [0, 0, 0]\n",
    "]\n",
    "\n",
    "example_kernel = [\n",
    "    [0, 1],\n",
    "    [2, 3]\n",
    "]"
   ],
   "metadata": {
    "collapsed": false,
    "pycharm": {
     "name": "#%%\n"
    }
   }
  },
  {
   "cell_type": "code",
   "execution_count": 172,
   "outputs": [],
   "source": [
    "def apply_kernel(image: [[float]], kernel: [[float]]):\n",
    "    x, y = len(image), len(image[0])\n",
    "    n, m = len(kernel), len(kernel[0])\n",
    "    new_x, new_y = x - n + 1, y - m + 1\n",
    "\n",
    "    new_image = [[0]*new_y for i in range(new_x)]\n",
    "\n",
    "    for row_offset in range(0, new_x):\n",
    "        for column_offset in range(0, new_y):\n",
    "            sum = 0\n",
    "            for row in range(0, n):\n",
    "                for column in range(0, m):\n",
    "                    sum += image[row + row_offset][column + column_offset] * kernel[row][column]\n",
    "            new_image[row_offset][column_offset] = sum\n",
    "\n",
    "    return new_image"
   ],
   "metadata": {
    "collapsed": false,
    "pycharm": {
     "name": "#%%\n"
    }
   }
  },
  {
   "cell_type": "code",
   "execution_count": 173,
   "outputs": [
    {
     "name": "stdout",
     "output_type": "stream",
     "text": [
      "19 25 \n",
      "37 43 \n"
     ]
    }
   ],
   "source": [
    "output_image = apply_kernel(input_image, example_kernel)\n",
    "print_2d_array(output_image, decimal_places=0)"
   ],
   "metadata": {
    "collapsed": false,
    "pycharm": {
     "name": "#%%\n"
    }
   }
  },
  {
   "cell_type": "code",
   "execution_count": 173,
   "outputs": [],
   "source": [],
   "metadata": {
    "collapsed": false,
    "pycharm": {
     "name": "#%%\n"
    }
   }
  }
 ],
 "metadata": {
  "kernelspec": {
   "display_name": "Python 3",
   "language": "python",
   "name": "python3"
  },
  "language_info": {
   "codemirror_mode": {
    "name": "ipython",
    "version": 2
   },
   "file_extension": ".py",
   "mimetype": "text/x-python",
   "name": "python",
   "nbconvert_exporter": "python",
   "pygments_lexer": "ipython2",
   "version": "2.7.6"
  }
 },
 "nbformat": 4,
 "nbformat_minor": 0
}