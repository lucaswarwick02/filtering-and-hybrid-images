{
 "cells": [
  {
   "cell_type": "code",
   "execution_count": 5,
   "metadata": {},
   "outputs": [],
   "source": [
    "import numpy as np\n",
    "import math\n",
    "from coursework_functions import print_2d_array, perform_convolution"
   ]
  },
  {
   "cell_type": "code",
   "execution_count": 6,
   "metadata": {},
   "outputs": [
    {
     "name": "stdout",
     "output_type": "stream",
     "text": [
      "15 14 13 12 11 \n",
      "10 9 8 7 6 \n",
      "5 4 3 2 1 \n"
     ]
    }
   ],
   "source": [
    "template = [\n",
    "    [15, 14, 13, 12, 11],\n",
    "    [10, 9, 8, 7, 6],\n",
    "    [5, 4, 3, 2, 1]\n",
    "]\n",
    "print_2d_array(template, decimal_places=0)"
   ]
  },
  {
   "cell_type": "code",
   "execution_count": 7,
   "metadata": {},
   "outputs": [
    {
     "name": "stdout",
     "output_type": "stream",
     "text": [
      "1 2 3 4 5 \n",
      "6 7 8 9 10 \n",
      "11 12 13 14 15 \n"
     ]
    }
   ],
   "source": [
    "def invert_template(original_template):\n",
    "    inverted_template = original_template.copy()\n",
    "    inverted_template.reverse()\n",
    "\n",
    "    for row in template:\n",
    "        row.reverse()\n",
    "\n",
    "    return inverted_template\n",
    "\n",
    "inverted_template = invert_template(template)\n",
    "print_2d_array(inverted_template, decimal_places=0)"
   ]
  },
  {
   "cell_type": "code",
   "execution_count": 8,
   "metadata": {},
   "outputs": [
    {
     "name": "stdout",
     "output_type": "stream",
     "text": [
      "-7.0000 \n"
     ]
    }
   ],
   "source": [
    "image = [\n",
    "    [48, 41, 43],\n",
    "    [42, 47, 44],\n",
    "    [45, 46, 43]\n",
    "]\n",
    "\n",
    "template = [\n",
    "    [-1, -2, -1],\n",
    "    [0, 0, 0],\n",
    "    [1, 2, 1]\n",
    "]\n",
    "\n",
    "convoluted_image = perform_convolution(image, template)\n",
    "print_2d_array(convoluted_image)"
   ]
  },
  {
   "cell_type": "code",
   "execution_count": null,
   "metadata": {},
   "outputs": [],
   "source": []
  }
 ],
 "metadata": {
  "kernelspec": {
   "display_name": "Python 3.9.12 ('base')",
   "language": "python",
   "name": "python3"
  },
  "language_info": {
   "codemirror_mode": {
    "name": "ipython",
    "version": 3
   },
   "file_extension": ".py",
   "mimetype": "text/x-python",
   "name": "python",
   "nbconvert_exporter": "python",
   "pygments_lexer": "ipython3",
   "version": "3.9.12"
  },
  "orig_nbformat": 4,
  "vscode": {
   "interpreter": {
    "hash": "c99ec3b06bb2b7a9ce1cfef1038d6bd1f5e5eb8cf3fb3cc6612960f8106f6dac"
   }
  }
 },
 "nbformat": 4,
 "nbformat_minor": 2
}
