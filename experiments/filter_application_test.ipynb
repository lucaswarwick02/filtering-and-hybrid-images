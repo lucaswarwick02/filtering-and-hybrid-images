{
 "cells": [
  {
   "cell_type": "code",
   "execution_count": null,
   "metadata": {
    "collapsed": true,
    "pycharm": {
     "is_executing": true,
     "name": "#%%\n"
    }
   },
   "outputs": [],
   "source": [
    "from coursework_functions import (create_guassian_filter, print_2d_array, perform_convolution, test_text)\n",
    "import numpy as np\n",
    "import cv2\n",
    "import os\n",
    "%matplotlib inline\n",
    "from matplotlib import pyplot as plt\n",
    "from tqdm.notebook import tqdm"
   ]
  },
  {
   "cell_type": "code",
   "execution_count": null,
   "metadata": {
    "collapsed": false,
    "pycharm": {
     "is_executing": true,
     "name": "#%%\n"
    }
   },
   "outputs": [],
   "source": [
    "# Create the path to the image\n",
    "IMG_PATH = os.path.join(os.path.abspath('../'), 'data', 'cat.bmp')"
   ]
  },
  {
   "cell_type": "code",
   "execution_count": null,
   "metadata": {
    "collapsed": false,
    "pycharm": {
     "is_executing": true,
     "name": "#%%\n"
    }
   },
   "outputs": [],
   "source": [
    "img = cv2.imread(IMG_PATH) # Read the image file\n",
    "#img = cv2.bitwise_not(img) # Reads it inverted for some reason, so re-invert it\n",
    "img = cv2.cvtColor(img, cv2.COLOR_BGR2GRAY) # Convert to grayscale as color not implemented yet"
   ]
  },
  {
   "cell_type": "code",
   "execution_count": null,
   "metadata": {},
   "outputs": [],
   "source": [
    "plt.subplot(1, 1, 1)\n",
    "plt.imshow(img, cmap='gray')\n",
    "plt.title('Original Image')\n",
    "plt.yticks([])"
   ]
  },
  {
   "cell_type": "code",
   "execution_count": null,
   "metadata": {},
   "outputs": [],
   "source": [
    "def point_multiply(image, template):\n",
    "    sum = 0\n",
    "    for row in range(len(image)):\n",
    "        for column in range(len(image[0])):\n",
    "            sum += image[row][column] * template[row][column]\n",
    "    return sum\n",
    "def perform_numpy_convolution(image: np.ndarray, template: np.ndarray):\n",
    "    # Flip the template around both axes\n",
    "    inverted_template = np.flip(template)\n",
    "\n",
    "    x, y = len(image), len(image[0])\n",
    "    n, m = len(inverted_template), len(inverted_template[0])\n",
    "    new_x, new_y = x - n + 1, y - m + 1\n",
    "\n",
    "    sections = []\n",
    "    for row_offset in tqdm(range(0, new_x)):\n",
    "        for column_offset in range(0, new_y):\n",
    "            section = np.zeros(shape=(n, m))\n",
    "            for row in range(0, n):\n",
    "                for column in range(0, m):\n",
    "                    section[row][column] = image[row + row_offset][column + column_offset]\n",
    "            sections.append(section)\n",
    "\n",
    "    vfunc = np.vectorize(point_multiply, signature='(x,y),(x,y)->()')\n",
    "    out = vfunc(sections, inverted_template.tolist())"
   ]
  },
  {
   "cell_type": "code",
   "execution_count": null,
   "metadata": {
    "collapsed": false,
    "pycharm": {
     "is_executing": true,
     "name": "#%%\n"
    }
   },
   "outputs": [],
   "source": [
    "# Create the guassian kernel\n",
    "guassian_filter_matrix = create_guassian_filter(sigma=3)\n",
    "# Apply kernel to the image\n",
    "low_pass_image = perform_numpy_convolution(img, guassian_filter_matrix)"
   ]
  },
  {
   "cell_type": "code",
   "execution_count": null,
   "metadata": {
    "collapsed": false,
    "pycharm": {
     "is_executing": true,
     "name": "#%%\n"
    }
   },
   "outputs": [],
   "source": [
    "plt.subplot(1, 2, 1)\n",
    "plt.imshow(img, cmap='gray')\n",
    "plt.title('Original Image')\n",
    "plt.yticks([])\n",
    "\n",
    "plt.subplot(1, 2, 2)\n",
    "plt.imshow(low_pass_image, cmap='gray')\n",
    "plt.title('Low Pass Image')\n",
    "plt.yticks([])\n",
    "\n",
    "plt.show()"
   ]
  },
  {
   "cell_type": "code",
   "execution_count": null,
   "metadata": {
    "collapsed": false,
    "pycharm": {
     "name": "#%%\n"
    }
   },
   "outputs": [],
   "source": [
    "# Check dimensions of `img` and `low_pass_image` are the same (zero-padding successful)\n",
    "print('Original Image Dimensions: '.ljust(30, ' ') + f'{len(img)}x{len(img[0])}')\n",
    "print('Low Pass Image Dimensions: '.ljust(30, ' ') + f'{len(low_pass_image)}x{len(low_pass_image[0])}')\n",
    "print(test_text('Equal Dimensions', ((len(img) == len(low_pass_image)) and (len(img[0]) == len(low_pass_image[0])))))"
   ]
  },
  {
   "cell_type": "code",
   "execution_count": null,
   "metadata": {
    "collapsed": false,
    "pycharm": {
     "is_executing": true,
     "name": "#%%\n"
    }
   },
   "outputs": [],
   "source": []
  }
 ],
 "metadata": {
  "kernelspec": {
   "display_name": "Python 3.10.6 ('comp3204-filtering-and-hybrid-images')",
   "language": "python",
   "name": "python3"
  },
  "language_info": {
   "codemirror_mode": {
    "name": "ipython",
    "version": 3
   },
   "file_extension": ".py",
   "mimetype": "text/x-python",
   "name": "python",
   "nbconvert_exporter": "python",
   "pygments_lexer": "ipython3",
   "version": "3.10.6"
  },
  "vscode": {
   "interpreter": {
    "hash": "0e4442c0e0950f8e3ce90e0644bd17cd3cce8d17f4a1aa6168e1b40fb912637a"
   }
  }
 },
 "nbformat": 4,
 "nbformat_minor": 0
}
