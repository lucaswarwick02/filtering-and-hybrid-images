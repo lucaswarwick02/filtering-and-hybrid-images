{
 "cells": [
  {
   "cell_type": "code",
   "execution_count": 20,
   "metadata": {
    "collapsed": true,
    "pycharm": {
     "name": "#%%\n"
    }
   },
   "outputs": [],
   "source": [
    "import math\n",
    "from coursework_functions import print_2d_array"
   ]
  },
  {
   "cell_type": "code",
   "execution_count": 21,
   "metadata": {
    "collapsed": false,
    "pycharm": {
     "name": "#%%\n"
    }
   },
   "outputs": [],
   "source": [
    "def create_guassian_filter(sigma):\n",
    "    s = 2.0 * sigma * sigma\n",
    "    n = m = int(8 * sigma + 1)\n",
    "\n",
    "    guassian_filter = [ [0]*n for i in range(m) ]\n",
    "\n",
    "    cum_sum = 0\n",
    "    x_range = int((n - 1) / 2)\n",
    "    y_range = int((m - 1) / 2)\n",
    "\n",
    "    for x in range(-x_range, x_range + 1):\n",
    "        for y in range(-y_range, y_range + 1):\n",
    "            r = math.sqrt((x * x) + (y * y))\n",
    "            guassian_filter[y + y_range][x + x_range] = (math.exp(-(r *r) / 2)) / (math.pi * s)\n",
    "            cum_sum += guassian_filter[y + y_range][x + x_range]\n",
    "\n",
    "    for x in range(-x_range, x_range + 1):\n",
    "        for y in range(-y_range, y_range + 1):\n",
    "            guassian_filter[y + y_range][x + x_range] /= cum_sum\n",
    "\n",
    "    return guassian_filter"
   ]
  },
  {
   "cell_type": "code",
   "execution_count": 22,
   "metadata": {
    "collapsed": false,
    "pycharm": {
     "name": "#%%\n"
    }
   },
   "outputs": [
    {
     "name": "stdout",
     "output_type": "stream",
     "text": [
      "0.0000 0.0000 0.0000 0.0000 0.0001 0.0000 0.0000 0.0000 0.0000 0.0000 \n",
      "0.0000 0.0000 0.0002 0.0011 0.0018 0.0011 0.0002 0.0000 0.0000 0.0000 \n",
      "0.0000 0.0002 0.0029 0.0131 0.0215 0.0131 0.0029 0.0002 0.0000 0.0000 \n",
      "0.0000 0.0011 0.0131 0.0586 0.0965 0.0586 0.0131 0.0011 0.0000 0.0000 \n",
      "0.0001 0.0018 0.0215 0.0965 0.1592 0.0965 0.0215 0.0018 0.0001 0.0000 \n",
      "0.0000 0.0011 0.0131 0.0586 0.0965 0.0586 0.0131 0.0011 0.0000 0.0000 \n",
      "0.0000 0.0002 0.0029 0.0131 0.0215 0.0131 0.0029 0.0002 0.0000 0.0000 \n",
      "0.0000 0.0000 0.0002 0.0011 0.0018 0.0011 0.0002 0.0000 0.0000 0.0000 \n",
      "0.0000 0.0000 0.0000 0.0000 0.0001 0.0000 0.0000 0.0000 0.0000 0.0000 \n",
      "0.0000 0.0000 0.0000 0.0000 0.0000 0.0000 0.0000 0.0000 0.0000 0.0000 \n"
     ]
    }
   ],
   "source": [
    "kernel = create_guassian_filter(sigma=1.2)\n",
    "print_2d_array(kernel, )"
   ]
  },
  {
   "cell_type": "code",
   "execution_count": 22,
   "metadata": {
    "collapsed": false,
    "pycharm": {
     "name": "#%%\n"
    }
   },
   "outputs": [],
   "source": []
  }
 ],
 "metadata": {
  "kernelspec": {
   "display_name": "Python 3.9.12 ('base')",
   "language": "python",
   "name": "python3"
  },
  "language_info": {
   "codemirror_mode": {
    "name": "ipython",
    "version": 2
   },
   "file_extension": ".py",
   "mimetype": "text/x-python",
   "name": "python",
   "nbconvert_exporter": "python",
   "pygments_lexer": "ipython2",
   "version": "3.9.12"
  },
  "vscode": {
   "interpreter": {
    "hash": "c99ec3b06bb2b7a9ce1cfef1038d6bd1f5e5eb8cf3fb3cc6612960f8106f6dac"
   }
  }
 },
 "nbformat": 4,
 "nbformat_minor": 0
}
