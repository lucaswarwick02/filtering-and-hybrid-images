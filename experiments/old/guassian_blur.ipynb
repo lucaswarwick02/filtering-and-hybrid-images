{
 "cells": [
  {
   "cell_type": "code",
   "execution_count": 1,
   "metadata": {
    "collapsed": true,
    "pycharm": {
     "name": "#%%\n"
    }
   },
   "outputs": [],
   "source": [
    "import math\n",
    "import numpy as np\n",
    "from coursework_functions import print_2d_array"
   ]
  },
  {
   "cell_type": "code",
   "execution_count": 2,
   "metadata": {
    "collapsed": false,
    "pycharm": {
     "name": "#%%\n"
    }
   },
   "outputs": [],
   "source": [
    "def create_guassian_filter(sigma):\n",
    "    size = int(math.floor(8*sigma+1))\n",
    "    if (size % 2 == 0):\n",
    "        # Size is even, make odd\n",
    "        size += 1\n",
    "\n",
    "    kernel = np.zeros((size, size))\n",
    "\n",
    "    cum_sum = 0\n",
    "    x_range = int((size - 1) / 2)\n",
    "    y_range = int((size - 1) / 2)\n",
    "\n",
    "    for x in range(-x_range, x_range + 1):\n",
    "        for y in range(-y_range, y_range + 1):\n",
    "            kernel[y + y_range][x + x_range] = (math.exp(-((x * x) + (y * y)) / (2 * sigma * sigma))) / (2 * math.pi * sigma * sigma)\n",
    "            cum_sum += kernel[y + y_range][x + x_range]\n",
    "\n",
    "    for x in range(-x_range, x_range + 1):\n",
    "        for y in range(-y_range, y_range + 1):\n",
    "            kernel[y + y_range][x + x_range] /= cum_sum\n",
    "\n",
    "    return kernel"
   ]
  },
  {
   "cell_type": "code",
   "execution_count": 3,
   "metadata": {
    "collapsed": false,
    "pycharm": {
     "name": "#%%\n"
    }
   },
   "outputs": [
    {
     "name": "stdout",
     "output_type": "stream",
     "text": [
      "0.000 0.000 0.000 0.000 0.000 0.000 0.000 0.000 0.000 \n",
      "0.000 0.000 0.000 0.001 0.002 0.001 0.000 0.000 0.000 \n",
      "0.000 0.000 0.003 0.013 0.022 0.013 0.003 0.000 0.000 \n",
      "0.000 0.001 0.013 0.059 0.097 0.059 0.013 0.001 0.000 \n",
      "0.000 0.002 0.022 0.097 0.159 0.097 0.022 0.002 0.000 \n",
      "0.000 0.001 0.013 0.059 0.097 0.059 0.013 0.001 0.000 \n",
      "0.000 0.000 0.003 0.013 0.022 0.013 0.003 0.000 0.000 \n",
      "0.000 0.000 0.000 0.001 0.002 0.001 0.000 0.000 0.000 \n",
      "0.000 0.000 0.000 0.000 0.000 0.000 0.000 0.000 0.000 \n"
     ]
    }
   ],
   "source": [
    "kernel = create_guassian_filter(sigma=1.0)\n",
    "print_2d_array(kernel, decimal_places=3)"
   ]
  }
 ],
 "metadata": {
  "kernelspec": {
   "display_name": "Python 3.10.6 ('comp3204-filtering-and-hybrid-images')",
   "language": "python",
   "name": "python3"
  },
  "language_info": {
   "codemirror_mode": {
    "name": "ipython",
    "version": 3
   },
   "file_extension": ".py",
   "mimetype": "text/x-python",
   "name": "python",
   "nbconvert_exporter": "python",
   "pygments_lexer": "ipython3",
   "version": "3.10.6"
  },
  "vscode": {
   "interpreter": {
    "hash": "d2950774b805109461072a4c13a47c097f4fa11085b95975617e8436f1a258ef"
   }
  }
 },
 "nbformat": 4,
 "nbformat_minor": 0
}
