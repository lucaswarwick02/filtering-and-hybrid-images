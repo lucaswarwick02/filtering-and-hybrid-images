{
 "cells": [
  {
   "cell_type": "code",
   "execution_count": 5,
   "metadata": {},
   "outputs": [],
   "source": [
    "import numpy as np\n",
    "import math\n",
    "from coursework_functions import print_2d_array, perform_convolution"
   ]
  },
  {
   "cell_type": "code",
   "execution_count": 6,
   "metadata": {},
   "outputs": [
    {
     "name": "stdout",
     "output_type": "stream",
     "text": [
      "[[15 14 13 12 11]\n",
      " [10  9  8  7  6]\n",
      " [ 5  4  3  2  1]]\n"
     ]
    }
   ],
   "source": [
    "template = [\n",
    "    [15, 14, 13, 12, 11],\n",
    "    [10, 9, 8, 7, 6],\n",
    "    [5, 4, 3, 2, 1]\n",
    "]\n",
    "\n",
    "numpy_template = np.array(template)\n",
    "\n",
    "print(numpy_template)"
   ]
  },
  {
   "cell_type": "code",
   "execution_count": 9,
   "metadata": {},
   "outputs": [
    {
     "data": {
      "text/plain": [
       "[[1, 2, 3, 4, 5], [6, 7, 8, 9, 10], [11, 12, 13, 14, 15]]"
      ]
     },
     "execution_count": 9,
     "metadata": {},
     "output_type": "execute_result"
    }
   ],
   "source": [
    "def invert_template(original_template: np.ndarray):\n",
    "    inverted_template = original_template.copy()\n",
    "    inverted_template.reverse()\n",
    "\n",
    "    for row in template:\n",
    "        row.reverse()\n",
    "\n",
    "    return inverted_template\n",
    "\n",
    "#inverted_template = invert_template(numpy_template)\n",
    "invert_template = np.flip(invert_template)\n",
    "\n",
    "inverted_template"
   ]
  },
  {
   "cell_type": "code",
   "execution_count": null,
   "metadata": {},
   "outputs": [],
   "source": []
  }
 ],
 "metadata": {
  "kernelspec": {
   "display_name": "Python 3.10.6 ('comp3204-filtering-and-hybrid-images')",
   "language": "python",
   "name": "python3"
  },
  "language_info": {
   "codemirror_mode": {
    "name": "ipython",
    "version": 3
   },
   "file_extension": ".py",
   "mimetype": "text/x-python",
   "name": "python",
   "nbconvert_exporter": "python",
   "pygments_lexer": "ipython3",
   "version": "3.10.6"
  },
  "orig_nbformat": 4,
  "vscode": {
   "interpreter": {
    "hash": "d2950774b805109461072a4c13a47c097f4fa11085b95975617e8436f1a258ef"
   }
  }
 },
 "nbformat": 4,
 "nbformat_minor": 2
}
