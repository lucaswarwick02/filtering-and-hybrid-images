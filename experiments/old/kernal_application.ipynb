{
 "cells": [
  {
   "cell_type": "code",
   "execution_count": 209,
   "metadata": {
    "collapsed": true,
    "pycharm": {
     "name": "#%%\n"
    }
   },
   "outputs": [],
   "source": [
    "import numpy as np\n",
    "from coursework_functions import print_2d_array\n",
    "from tqdm import tqdm"
   ]
  },
  {
   "cell_type": "code",
   "execution_count": 210,
   "metadata": {
    "collapsed": false,
    "pycharm": {
     "name": "#%%\n"
    }
   },
   "outputs": [],
   "source": [
    "input_image = [\n",
    "    [1, 1, 1, 0, 0],\n",
    "    [0, 1, 1, 1, 0],\n",
    "    [0, 0, 1, 1, 1],\n",
    "    [0, 0, 1, 1, 0],\n",
    "    [0, 1, 1, 0, 0]\n",
    "]"
   ]
  },
  {
   "cell_type": "code",
   "execution_count": 211,
   "metadata": {
    "collapsed": false,
    "pycharm": {
     "name": "#%%\n"
    }
   },
   "outputs": [],
   "source": [
    "example_kernel = [\n",
    "    [1, 0, 1],\n",
    "    [0, 1, 0],\n",
    "    [1, 0, 1]\n",
    "]"
   ]
  },
  {
   "cell_type": "code",
   "execution_count": 212,
   "metadata": {
    "collapsed": false,
    "pycharm": {
     "name": "#%%\n"
    }
   },
   "outputs": [],
   "source": [
    "def perform_numpy_convolution(image: np.ndarray, template: np.ndarray):\n",
    "    # Flip the template around both axes\n",
    "    inverted_template = np.flip(template)\n",
    "\n",
    "    x, y = len(image), len(image[0])\n",
    "    offset = int((len(template) - 1) / 2)\n",
    "\n",
    "    padded_image = np.pad(image, [offset, offset], 'constant', constant_values=[0, 0])\n",
    "\n",
    "    out = np.zeros((x, y))\n",
    "    print(range(0+offset, x))\n",
    "    print(range(0+offset, y))\n",
    "    for row in tqdm(range(0+offset, x+1)):\n",
    "        for column in range(0+offset, y+1):\n",
    "            section = np.array(padded_image[row-offset:row+offset+1,column-offset:column+offset+1])\n",
    "            print(section)\n",
    "            out[row-1][column-1] = np.sum(np.multiply(section, inverted_template))\n",
    "\n",
    "    return out"
   ]
  },
  {
   "cell_type": "code",
   "execution_count": 213,
   "metadata": {},
   "outputs": [],
   "source": [
    "numpy_image = np.array(input_image)\n",
    "numpy_template = np.array(example_kernel)"
   ]
  },
  {
   "cell_type": "code",
   "execution_count": 214,
   "metadata": {},
   "outputs": [
    {
     "name": "stdout",
     "output_type": "stream",
     "text": [
      "range(1, 5)\n",
      "range(1, 5)\n"
     ]
    },
    {
     "name": "stderr",
     "output_type": "stream",
     "text": [
      "100%|██████████| 5/5 [00:00<00:00, 610.83it/s]"
     ]
    },
    {
     "name": "stdout",
     "output_type": "stream",
     "text": [
      "[[0 0 0]\n",
      " [0 1 1]\n",
      " [0 0 1]]\n",
      "[[0 0 0]\n",
      " [1 1 1]\n",
      " [0 1 1]]\n",
      "[[0 0 0]\n",
      " [1 1 0]\n",
      " [1 1 1]]\n",
      "[[0 0 0]\n",
      " [1 0 0]\n",
      " [1 1 0]]\n",
      "[[0 0 0]\n",
      " [0 0 0]\n",
      " [1 0 0]]\n",
      "[[0 1 1]\n",
      " [0 0 1]\n",
      " [0 0 0]]\n",
      "[[1 1 1]\n",
      " [0 1 1]\n",
      " [0 0 1]]\n",
      "[[1 1 0]\n",
      " [1 1 1]\n",
      " [0 1 1]]\n",
      "[[1 0 0]\n",
      " [1 1 0]\n",
      " [1 1 1]]\n",
      "[[0 0 0]\n",
      " [1 0 0]\n",
      " [1 1 0]]\n",
      "[[0 0 1]\n",
      " [0 0 0]\n",
      " [0 0 0]]\n",
      "[[0 1 1]\n",
      " [0 0 1]\n",
      " [0 0 1]]\n",
      "[[1 1 1]\n",
      " [0 1 1]\n",
      " [0 1 1]]\n",
      "[[1 1 0]\n",
      " [1 1 1]\n",
      " [1 1 0]]\n",
      "[[1 0 0]\n",
      " [1 1 0]\n",
      " [1 0 0]]\n",
      "[[0 0 0]\n",
      " [0 0 0]\n",
      " [0 0 1]]\n",
      "[[0 0 1]\n",
      " [0 0 1]\n",
      " [0 1 1]]\n",
      "[[0 1 1]\n",
      " [0 1 1]\n",
      " [1 1 0]]\n",
      "[[1 1 1]\n",
      " [1 1 0]\n",
      " [1 0 0]]\n",
      "[[1 1 0]\n",
      " [1 0 0]\n",
      " [0 0 0]]\n",
      "[[0 0 0]\n",
      " [0 0 1]\n",
      " [0 0 0]]\n",
      "[[0 0 1]\n",
      " [0 1 1]\n",
      " [0 0 0]]\n",
      "[[0 1 1]\n",
      " [1 1 0]\n",
      " [0 0 0]]\n",
      "[[1 1 0]\n",
      " [1 0 0]\n",
      " [0 0 0]]\n",
      "[[1 0 0]\n",
      " [0 0 0]\n",
      " [0 0 0]]\n"
     ]
    },
    {
     "name": "stderr",
     "output_type": "stream",
     "text": [
      "\n"
     ]
    }
   ],
   "source": [
    "output_image = perform_numpy_convolution(numpy_image, numpy_template)"
   ]
  },
  {
   "cell_type": "code",
   "execution_count": 215,
   "metadata": {},
   "outputs": [
    {
     "name": "stdout",
     "output_type": "stream",
     "text": [
      "2 2 3 1 1 \n",
      "1 4 3 4 1 \n",
      "1 2 4 3 3 \n",
      "1 2 3 4 1 \n",
      "0 2 2 1 1 \n"
     ]
    }
   ],
   "source": [
    "print_2d_array(output_image, decimal_places=0)"
   ]
  },
  {
   "cell_type": "code",
   "execution_count": null,
   "metadata": {},
   "outputs": [],
   "source": []
  }
 ],
 "metadata": {
  "kernelspec": {
   "display_name": "Python 3.10.6 ('comp3204-filtering-and-hybrid-images')",
   "language": "python",
   "name": "python3"
  },
  "language_info": {
   "codemirror_mode": {
    "name": "ipython",
    "version": 3
   },
   "file_extension": ".py",
   "mimetype": "text/x-python",
   "name": "python",
   "nbconvert_exporter": "python",
   "pygments_lexer": "ipython3",
   "version": "3.10.6"
  },
  "vscode": {
   "interpreter": {
    "hash": "d2950774b805109461072a4c13a47c097f4fa11085b95975617e8436f1a258ef"
   }
  }
 },
 "nbformat": 4,
 "nbformat_minor": 0
}
